{
 "cells": [
  {
   "cell_type": "code",
   "execution_count": 5,
   "id": "d9208650-4e32-4a22-a689-263a099a93c8",
   "metadata": {},
   "outputs": [
    {
     "data": {
      "text/html": [
       "<div>\n",
       "<style scoped>\n",
       "    .dataframe tbody tr th:only-of-type {\n",
       "        vertical-align: middle;\n",
       "    }\n",
       "\n",
       "    .dataframe tbody tr th {\n",
       "        vertical-align: top;\n",
       "    }\n",
       "\n",
       "    .dataframe thead th {\n",
       "        text-align: right;\n",
       "    }\n",
       "</style>\n",
       "<table border=\"1\" class=\"dataframe\">\n",
       "  <thead>\n",
       "    <tr style=\"text-align: right;\">\n",
       "      <th></th>\n",
       "      <th>EmpID</th>\n",
       "      <th>Age</th>\n",
       "      <th>AgeGroup</th>\n",
       "      <th>Attrition</th>\n",
       "      <th>BusinessTravel</th>\n",
       "      <th>DailyRate</th>\n",
       "      <th>Department</th>\n",
       "      <th>DistanceFromHome</th>\n",
       "      <th>Education</th>\n",
       "      <th>EducationField</th>\n",
       "      <th>...</th>\n",
       "      <th>RelationshipSatisfaction</th>\n",
       "      <th>StandardHours</th>\n",
       "      <th>StockOptionLevel</th>\n",
       "      <th>TotalWorkingYears</th>\n",
       "      <th>TrainingTimesLastYear</th>\n",
       "      <th>WorkLifeBalance</th>\n",
       "      <th>YearsAtCompany</th>\n",
       "      <th>YearsInCurrentRole</th>\n",
       "      <th>YearsSinceLastPromotion</th>\n",
       "      <th>YearsWithCurrManager</th>\n",
       "    </tr>\n",
       "  </thead>\n",
       "  <tbody>\n",
       "    <tr>\n",
       "      <th>0</th>\n",
       "      <td>RM297</td>\n",
       "      <td>18</td>\n",
       "      <td>18-25</td>\n",
       "      <td>Yes</td>\n",
       "      <td>Travel_Rarely</td>\n",
       "      <td>230</td>\n",
       "      <td>Research &amp; Development</td>\n",
       "      <td>3</td>\n",
       "      <td>3</td>\n",
       "      <td>Life Sciences</td>\n",
       "      <td>...</td>\n",
       "      <td>3</td>\n",
       "      <td>80</td>\n",
       "      <td>0</td>\n",
       "      <td>0</td>\n",
       "      <td>2</td>\n",
       "      <td>3</td>\n",
       "      <td>0</td>\n",
       "      <td>0</td>\n",
       "      <td>0</td>\n",
       "      <td>0.0</td>\n",
       "    </tr>\n",
       "    <tr>\n",
       "      <th>1</th>\n",
       "      <td>RM302</td>\n",
       "      <td>18</td>\n",
       "      <td>18-25</td>\n",
       "      <td>No</td>\n",
       "      <td>Travel_Rarely</td>\n",
       "      <td>812</td>\n",
       "      <td>Sales</td>\n",
       "      <td>10</td>\n",
       "      <td>3</td>\n",
       "      <td>Medical</td>\n",
       "      <td>...</td>\n",
       "      <td>1</td>\n",
       "      <td>80</td>\n",
       "      <td>0</td>\n",
       "      <td>0</td>\n",
       "      <td>2</td>\n",
       "      <td>3</td>\n",
       "      <td>0</td>\n",
       "      <td>0</td>\n",
       "      <td>0</td>\n",
       "      <td>0.0</td>\n",
       "    </tr>\n",
       "    <tr>\n",
       "      <th>2</th>\n",
       "      <td>RM458</td>\n",
       "      <td>18</td>\n",
       "      <td>18-25</td>\n",
       "      <td>Yes</td>\n",
       "      <td>Travel_Frequently</td>\n",
       "      <td>1306</td>\n",
       "      <td>Sales</td>\n",
       "      <td>5</td>\n",
       "      <td>3</td>\n",
       "      <td>Marketing</td>\n",
       "      <td>...</td>\n",
       "      <td>4</td>\n",
       "      <td>80</td>\n",
       "      <td>0</td>\n",
       "      <td>0</td>\n",
       "      <td>3</td>\n",
       "      <td>3</td>\n",
       "      <td>0</td>\n",
       "      <td>0</td>\n",
       "      <td>0</td>\n",
       "      <td>0.0</td>\n",
       "    </tr>\n",
       "    <tr>\n",
       "      <th>3</th>\n",
       "      <td>RM728</td>\n",
       "      <td>18</td>\n",
       "      <td>18-25</td>\n",
       "      <td>No</td>\n",
       "      <td>Non-Travel</td>\n",
       "      <td>287</td>\n",
       "      <td>Research &amp; Development</td>\n",
       "      <td>5</td>\n",
       "      <td>2</td>\n",
       "      <td>Life Sciences</td>\n",
       "      <td>...</td>\n",
       "      <td>4</td>\n",
       "      <td>80</td>\n",
       "      <td>0</td>\n",
       "      <td>0</td>\n",
       "      <td>2</td>\n",
       "      <td>3</td>\n",
       "      <td>0</td>\n",
       "      <td>0</td>\n",
       "      <td>0</td>\n",
       "      <td>0.0</td>\n",
       "    </tr>\n",
       "    <tr>\n",
       "      <th>4</th>\n",
       "      <td>RM829</td>\n",
       "      <td>18</td>\n",
       "      <td>18-25</td>\n",
       "      <td>Yes</td>\n",
       "      <td>Non-Travel</td>\n",
       "      <td>247</td>\n",
       "      <td>Research &amp; Development</td>\n",
       "      <td>8</td>\n",
       "      <td>1</td>\n",
       "      <td>Medical</td>\n",
       "      <td>...</td>\n",
       "      <td>4</td>\n",
       "      <td>80</td>\n",
       "      <td>0</td>\n",
       "      <td>0</td>\n",
       "      <td>0</td>\n",
       "      <td>3</td>\n",
       "      <td>0</td>\n",
       "      <td>0</td>\n",
       "      <td>0</td>\n",
       "      <td>0.0</td>\n",
       "    </tr>\n",
       "  </tbody>\n",
       "</table>\n",
       "<p>5 rows × 38 columns</p>\n",
       "</div>"
      ],
      "text/plain": [
       "   EmpID  Age AgeGroup Attrition     BusinessTravel  DailyRate  \\\n",
       "0  RM297   18    18-25       Yes      Travel_Rarely        230   \n",
       "1  RM302   18    18-25        No      Travel_Rarely        812   \n",
       "2  RM458   18    18-25       Yes  Travel_Frequently       1306   \n",
       "3  RM728   18    18-25        No         Non-Travel        287   \n",
       "4  RM829   18    18-25       Yes         Non-Travel        247   \n",
       "\n",
       "               Department  DistanceFromHome  Education EducationField  ...  \\\n",
       "0  Research & Development                 3          3  Life Sciences  ...   \n",
       "1                   Sales                10          3        Medical  ...   \n",
       "2                   Sales                 5          3      Marketing  ...   \n",
       "3  Research & Development                 5          2  Life Sciences  ...   \n",
       "4  Research & Development                 8          1        Medical  ...   \n",
       "\n",
       "   RelationshipSatisfaction  StandardHours  StockOptionLevel  \\\n",
       "0                         3             80                 0   \n",
       "1                         1             80                 0   \n",
       "2                         4             80                 0   \n",
       "3                         4             80                 0   \n",
       "4                         4             80                 0   \n",
       "\n",
       "  TotalWorkingYears  TrainingTimesLastYear  WorkLifeBalance  YearsAtCompany  \\\n",
       "0                 0                      2                3               0   \n",
       "1                 0                      2                3               0   \n",
       "2                 0                      3                3               0   \n",
       "3                 0                      2                3               0   \n",
       "4                 0                      0                3               0   \n",
       "\n",
       "  YearsInCurrentRole  YearsSinceLastPromotion YearsWithCurrManager  \n",
       "0                  0                        0                  0.0  \n",
       "1                  0                        0                  0.0  \n",
       "2                  0                        0                  0.0  \n",
       "3                  0                        0                  0.0  \n",
       "4                  0                        0                  0.0  \n",
       "\n",
       "[5 rows x 38 columns]"
      ]
     },
     "execution_count": 5,
     "metadata": {},
     "output_type": "execute_result"
    }
   ],
   "source": [
    "import numpy as np\n",
    "import pandas as pd\n",
    "\n",
    "df = pd.read_csv('HR_Analytics.csv')\n",
    "\n",
    "df.head()"
   ]
  },
  {
   "cell_type": "code",
   "execution_count": 6,
   "id": "341d55a4-ffe8-4c35-929e-ff7cc4b77d5d",
   "metadata": {},
   "outputs": [
    {
     "data": {
      "text/plain": [
       "(1480, 38)"
      ]
     },
     "execution_count": 6,
     "metadata": {},
     "output_type": "execute_result"
    }
   ],
   "source": [
    "df.shape\n",
    "\n",
    "#1,480 Rows, 38 Columns"
   ]
  },
  {
   "cell_type": "code",
   "execution_count": 7,
   "id": "833c791c-28b1-4bbc-9c6c-8701d764076a",
   "metadata": {},
   "outputs": [
    {
     "name": "stdout",
     "output_type": "stream",
     "text": [
      "<class 'pandas.core.frame.DataFrame'>\n",
      "RangeIndex: 1480 entries, 0 to 1479\n",
      "Data columns (total 38 columns):\n",
      " #   Column                    Non-Null Count  Dtype  \n",
      "---  ------                    --------------  -----  \n",
      " 0   EmpID                     1480 non-null   object \n",
      " 1   Age                       1480 non-null   int64  \n",
      " 2   AgeGroup                  1480 non-null   object \n",
      " 3   Attrition                 1480 non-null   object \n",
      " 4   BusinessTravel            1480 non-null   object \n",
      " 5   DailyRate                 1480 non-null   int64  \n",
      " 6   Department                1480 non-null   object \n",
      " 7   DistanceFromHome          1480 non-null   int64  \n",
      " 8   Education                 1480 non-null   int64  \n",
      " 9   EducationField            1480 non-null   object \n",
      " 10  EmployeeCount             1480 non-null   int64  \n",
      " 11  EmployeeNumber            1480 non-null   int64  \n",
      " 12  EnvironmentSatisfaction   1480 non-null   int64  \n",
      " 13  Gender                    1480 non-null   object \n",
      " 14  HourlyRate                1480 non-null   int64  \n",
      " 15  JobInvolvement            1480 non-null   int64  \n",
      " 16  JobLevel                  1480 non-null   int64  \n",
      " 17  JobRole                   1480 non-null   object \n",
      " 18  JobSatisfaction           1480 non-null   int64  \n",
      " 19  MaritalStatus             1480 non-null   object \n",
      " 20  MonthlyIncome             1480 non-null   int64  \n",
      " 21  SalarySlab                1480 non-null   object \n",
      " 22  MonthlyRate               1480 non-null   int64  \n",
      " 23  NumCompaniesWorked        1480 non-null   int64  \n",
      " 24  Over18                    1480 non-null   object \n",
      " 25  OverTime                  1480 non-null   object \n",
      " 26  PercentSalaryHike         1480 non-null   int64  \n",
      " 27  PerformanceRating         1480 non-null   int64  \n",
      " 28  RelationshipSatisfaction  1480 non-null   int64  \n",
      " 29  StandardHours             1480 non-null   int64  \n",
      " 30  StockOptionLevel          1480 non-null   int64  \n",
      " 31  TotalWorkingYears         1480 non-null   int64  \n",
      " 32  TrainingTimesLastYear     1480 non-null   int64  \n",
      " 33  WorkLifeBalance           1480 non-null   int64  \n",
      " 34  YearsAtCompany            1480 non-null   int64  \n",
      " 35  YearsInCurrentRole        1480 non-null   int64  \n",
      " 36  YearsSinceLastPromotion   1480 non-null   int64  \n",
      " 37  YearsWithCurrManager      1423 non-null   float64\n",
      "dtypes: float64(1), int64(25), object(12)\n",
      "memory usage: 439.5+ KB\n"
     ]
    }
   ],
   "source": [
    "df.info()"
   ]
  },
  {
   "cell_type": "code",
   "execution_count": 8,
   "id": "5612fc26-9b3c-41ba-9aec-149c8bda9343",
   "metadata": {},
   "outputs": [
    {
     "data": {
      "text/html": [
       "<div>\n",
       "<style scoped>\n",
       "    .dataframe tbody tr th:only-of-type {\n",
       "        vertical-align: middle;\n",
       "    }\n",
       "\n",
       "    .dataframe tbody tr th {\n",
       "        vertical-align: top;\n",
       "    }\n",
       "\n",
       "    .dataframe thead th {\n",
       "        text-align: right;\n",
       "    }\n",
       "</style>\n",
       "<table border=\"1\" class=\"dataframe\">\n",
       "  <thead>\n",
       "    <tr style=\"text-align: right;\">\n",
       "      <th></th>\n",
       "      <th>Age</th>\n",
       "      <th>DailyRate</th>\n",
       "      <th>DistanceFromHome</th>\n",
       "      <th>Education</th>\n",
       "      <th>EmployeeCount</th>\n",
       "      <th>EmployeeNumber</th>\n",
       "      <th>EnvironmentSatisfaction</th>\n",
       "      <th>HourlyRate</th>\n",
       "      <th>JobInvolvement</th>\n",
       "      <th>JobLevel</th>\n",
       "      <th>...</th>\n",
       "      <th>RelationshipSatisfaction</th>\n",
       "      <th>StandardHours</th>\n",
       "      <th>StockOptionLevel</th>\n",
       "      <th>TotalWorkingYears</th>\n",
       "      <th>TrainingTimesLastYear</th>\n",
       "      <th>WorkLifeBalance</th>\n",
       "      <th>YearsAtCompany</th>\n",
       "      <th>YearsInCurrentRole</th>\n",
       "      <th>YearsSinceLastPromotion</th>\n",
       "      <th>YearsWithCurrManager</th>\n",
       "    </tr>\n",
       "  </thead>\n",
       "  <tbody>\n",
       "    <tr>\n",
       "      <th>count</th>\n",
       "      <td>1480.000000</td>\n",
       "      <td>1480.000000</td>\n",
       "      <td>1480.000000</td>\n",
       "      <td>1480.000000</td>\n",
       "      <td>1480.0</td>\n",
       "      <td>1480.000000</td>\n",
       "      <td>1480.000000</td>\n",
       "      <td>1480.000000</td>\n",
       "      <td>1480.000000</td>\n",
       "      <td>1480.000000</td>\n",
       "      <td>...</td>\n",
       "      <td>1480.000000</td>\n",
       "      <td>1480.0</td>\n",
       "      <td>1480.000000</td>\n",
       "      <td>1480.000000</td>\n",
       "      <td>1480.000000</td>\n",
       "      <td>1480.000000</td>\n",
       "      <td>1480.000000</td>\n",
       "      <td>1480.000000</td>\n",
       "      <td>1480.000000</td>\n",
       "      <td>1423.000000</td>\n",
       "    </tr>\n",
       "    <tr>\n",
       "      <th>mean</th>\n",
       "      <td>36.917568</td>\n",
       "      <td>801.384459</td>\n",
       "      <td>9.220270</td>\n",
       "      <td>2.910811</td>\n",
       "      <td>1.0</td>\n",
       "      <td>1031.860811</td>\n",
       "      <td>2.724324</td>\n",
       "      <td>65.845270</td>\n",
       "      <td>2.729730</td>\n",
       "      <td>2.064865</td>\n",
       "      <td>...</td>\n",
       "      <td>2.708784</td>\n",
       "      <td>80.0</td>\n",
       "      <td>0.791892</td>\n",
       "      <td>11.281757</td>\n",
       "      <td>2.797973</td>\n",
       "      <td>2.760811</td>\n",
       "      <td>7.009459</td>\n",
       "      <td>4.228378</td>\n",
       "      <td>2.182432</td>\n",
       "      <td>4.118060</td>\n",
       "    </tr>\n",
       "    <tr>\n",
       "      <th>std</th>\n",
       "      <td>9.128559</td>\n",
       "      <td>403.126988</td>\n",
       "      <td>8.131201</td>\n",
       "      <td>1.023796</td>\n",
       "      <td>0.0</td>\n",
       "      <td>605.955046</td>\n",
       "      <td>1.092579</td>\n",
       "      <td>20.328266</td>\n",
       "      <td>0.713007</td>\n",
       "      <td>1.105574</td>\n",
       "      <td>...</td>\n",
       "      <td>1.081995</td>\n",
       "      <td>0.0</td>\n",
       "      <td>0.850527</td>\n",
       "      <td>7.770870</td>\n",
       "      <td>1.288791</td>\n",
       "      <td>0.707024</td>\n",
       "      <td>6.117945</td>\n",
       "      <td>3.616020</td>\n",
       "      <td>3.219357</td>\n",
       "      <td>3.555484</td>\n",
       "    </tr>\n",
       "    <tr>\n",
       "      <th>min</th>\n",
       "      <td>18.000000</td>\n",
       "      <td>102.000000</td>\n",
       "      <td>1.000000</td>\n",
       "      <td>1.000000</td>\n",
       "      <td>1.0</td>\n",
       "      <td>1.000000</td>\n",
       "      <td>1.000000</td>\n",
       "      <td>30.000000</td>\n",
       "      <td>1.000000</td>\n",
       "      <td>1.000000</td>\n",
       "      <td>...</td>\n",
       "      <td>1.000000</td>\n",
       "      <td>80.0</td>\n",
       "      <td>0.000000</td>\n",
       "      <td>0.000000</td>\n",
       "      <td>0.000000</td>\n",
       "      <td>1.000000</td>\n",
       "      <td>0.000000</td>\n",
       "      <td>0.000000</td>\n",
       "      <td>0.000000</td>\n",
       "      <td>0.000000</td>\n",
       "    </tr>\n",
       "    <tr>\n",
       "      <th>25%</th>\n",
       "      <td>30.000000</td>\n",
       "      <td>465.000000</td>\n",
       "      <td>2.000000</td>\n",
       "      <td>2.000000</td>\n",
       "      <td>1.0</td>\n",
       "      <td>493.750000</td>\n",
       "      <td>2.000000</td>\n",
       "      <td>48.000000</td>\n",
       "      <td>2.000000</td>\n",
       "      <td>1.000000</td>\n",
       "      <td>...</td>\n",
       "      <td>2.000000</td>\n",
       "      <td>80.0</td>\n",
       "      <td>0.000000</td>\n",
       "      <td>6.000000</td>\n",
       "      <td>2.000000</td>\n",
       "      <td>2.000000</td>\n",
       "      <td>3.000000</td>\n",
       "      <td>2.000000</td>\n",
       "      <td>0.000000</td>\n",
       "      <td>2.000000</td>\n",
       "    </tr>\n",
       "    <tr>\n",
       "      <th>50%</th>\n",
       "      <td>36.000000</td>\n",
       "      <td>800.000000</td>\n",
       "      <td>7.000000</td>\n",
       "      <td>3.000000</td>\n",
       "      <td>1.0</td>\n",
       "      <td>1027.500000</td>\n",
       "      <td>3.000000</td>\n",
       "      <td>66.000000</td>\n",
       "      <td>3.000000</td>\n",
       "      <td>2.000000</td>\n",
       "      <td>...</td>\n",
       "      <td>3.000000</td>\n",
       "      <td>80.0</td>\n",
       "      <td>1.000000</td>\n",
       "      <td>10.000000</td>\n",
       "      <td>3.000000</td>\n",
       "      <td>3.000000</td>\n",
       "      <td>5.000000</td>\n",
       "      <td>3.000000</td>\n",
       "      <td>1.000000</td>\n",
       "      <td>3.000000</td>\n",
       "    </tr>\n",
       "    <tr>\n",
       "      <th>75%</th>\n",
       "      <td>43.000000</td>\n",
       "      <td>1157.000000</td>\n",
       "      <td>14.000000</td>\n",
       "      <td>4.000000</td>\n",
       "      <td>1.0</td>\n",
       "      <td>1568.250000</td>\n",
       "      <td>4.000000</td>\n",
       "      <td>83.000000</td>\n",
       "      <td>3.000000</td>\n",
       "      <td>3.000000</td>\n",
       "      <td>...</td>\n",
       "      <td>4.000000</td>\n",
       "      <td>80.0</td>\n",
       "      <td>1.000000</td>\n",
       "      <td>15.000000</td>\n",
       "      <td>3.000000</td>\n",
       "      <td>3.000000</td>\n",
       "      <td>9.000000</td>\n",
       "      <td>7.000000</td>\n",
       "      <td>3.000000</td>\n",
       "      <td>7.000000</td>\n",
       "    </tr>\n",
       "    <tr>\n",
       "      <th>max</th>\n",
       "      <td>60.000000</td>\n",
       "      <td>1499.000000</td>\n",
       "      <td>29.000000</td>\n",
       "      <td>5.000000</td>\n",
       "      <td>1.0</td>\n",
       "      <td>2068.000000</td>\n",
       "      <td>4.000000</td>\n",
       "      <td>100.000000</td>\n",
       "      <td>4.000000</td>\n",
       "      <td>5.000000</td>\n",
       "      <td>...</td>\n",
       "      <td>4.000000</td>\n",
       "      <td>80.0</td>\n",
       "      <td>3.000000</td>\n",
       "      <td>40.000000</td>\n",
       "      <td>6.000000</td>\n",
       "      <td>4.000000</td>\n",
       "      <td>40.000000</td>\n",
       "      <td>18.000000</td>\n",
       "      <td>15.000000</td>\n",
       "      <td>17.000000</td>\n",
       "    </tr>\n",
       "  </tbody>\n",
       "</table>\n",
       "<p>8 rows × 26 columns</p>\n",
       "</div>"
      ],
      "text/plain": [
       "               Age    DailyRate  DistanceFromHome    Education  EmployeeCount  \\\n",
       "count  1480.000000  1480.000000       1480.000000  1480.000000         1480.0   \n",
       "mean     36.917568   801.384459          9.220270     2.910811            1.0   \n",
       "std       9.128559   403.126988          8.131201     1.023796            0.0   \n",
       "min      18.000000   102.000000          1.000000     1.000000            1.0   \n",
       "25%      30.000000   465.000000          2.000000     2.000000            1.0   \n",
       "50%      36.000000   800.000000          7.000000     3.000000            1.0   \n",
       "75%      43.000000  1157.000000         14.000000     4.000000            1.0   \n",
       "max      60.000000  1499.000000         29.000000     5.000000            1.0   \n",
       "\n",
       "       EmployeeNumber  EnvironmentSatisfaction   HourlyRate  JobInvolvement  \\\n",
       "count     1480.000000              1480.000000  1480.000000     1480.000000   \n",
       "mean      1031.860811                 2.724324    65.845270        2.729730   \n",
       "std        605.955046                 1.092579    20.328266        0.713007   \n",
       "min          1.000000                 1.000000    30.000000        1.000000   \n",
       "25%        493.750000                 2.000000    48.000000        2.000000   \n",
       "50%       1027.500000                 3.000000    66.000000        3.000000   \n",
       "75%       1568.250000                 4.000000    83.000000        3.000000   \n",
       "max       2068.000000                 4.000000   100.000000        4.000000   \n",
       "\n",
       "          JobLevel  ...  RelationshipSatisfaction  StandardHours  \\\n",
       "count  1480.000000  ...               1480.000000         1480.0   \n",
       "mean      2.064865  ...                  2.708784           80.0   \n",
       "std       1.105574  ...                  1.081995            0.0   \n",
       "min       1.000000  ...                  1.000000           80.0   \n",
       "25%       1.000000  ...                  2.000000           80.0   \n",
       "50%       2.000000  ...                  3.000000           80.0   \n",
       "75%       3.000000  ...                  4.000000           80.0   \n",
       "max       5.000000  ...                  4.000000           80.0   \n",
       "\n",
       "       StockOptionLevel  TotalWorkingYears  TrainingTimesLastYear  \\\n",
       "count       1480.000000        1480.000000            1480.000000   \n",
       "mean           0.791892          11.281757               2.797973   \n",
       "std            0.850527           7.770870               1.288791   \n",
       "min            0.000000           0.000000               0.000000   \n",
       "25%            0.000000           6.000000               2.000000   \n",
       "50%            1.000000          10.000000               3.000000   \n",
       "75%            1.000000          15.000000               3.000000   \n",
       "max            3.000000          40.000000               6.000000   \n",
       "\n",
       "       WorkLifeBalance  YearsAtCompany  YearsInCurrentRole  \\\n",
       "count      1480.000000     1480.000000         1480.000000   \n",
       "mean          2.760811        7.009459            4.228378   \n",
       "std           0.707024        6.117945            3.616020   \n",
       "min           1.000000        0.000000            0.000000   \n",
       "25%           2.000000        3.000000            2.000000   \n",
       "50%           3.000000        5.000000            3.000000   \n",
       "75%           3.000000        9.000000            7.000000   \n",
       "max           4.000000       40.000000           18.000000   \n",
       "\n",
       "       YearsSinceLastPromotion  YearsWithCurrManager  \n",
       "count              1480.000000           1423.000000  \n",
       "mean                  2.182432              4.118060  \n",
       "std                   3.219357              3.555484  \n",
       "min                   0.000000              0.000000  \n",
       "25%                   0.000000              2.000000  \n",
       "50%                   1.000000              3.000000  \n",
       "75%                   3.000000              7.000000  \n",
       "max                  15.000000             17.000000  \n",
       "\n",
       "[8 rows x 26 columns]"
      ]
     },
     "execution_count": 8,
     "metadata": {},
     "output_type": "execute_result"
    }
   ],
   "source": [
    "df.describe()"
   ]
  },
  {
   "cell_type": "code",
   "execution_count": 9,
   "id": "ca224f71-0999-4a19-95c8-931aae5da06c",
   "metadata": {},
   "outputs": [],
   "source": [
    "#Data Cleaning\n",
    "\n",
    "#Amend 'TravelRarely' to 'Travel_Rarely' to group together\n",
    "df['BusinessTravel'] = df['BusinessTravel'].replace('TravelRarely', 'Travel_Rarely')\n",
    "\n",
    "# Amend '55+' to '56+'\n",
    "df['AgeGroup'] = df['AgeGroup'].replace('55+', '56+')\n",
    "\n",
    "#Amend description under 'SalarySlab' column\n",
    "df['SalarySlab'] = df['SalarySlab'].replace('Upto 5k', 'Up_to_5000')\n",
    "df['SalarySlab'] = df['SalarySlab'].replace('5k-10k', '5001_to_10000')\n",
    "df['SalarySlab'] = df['SalarySlab'].replace('10k-15k', '10001_to_15000')\n",
    "df['SalarySlab'] = df['SalarySlab'].replace('15k+', 'Over_15000')\n",
    "\n",
    "#Export 'hr_analytics_edit' as .csv file\n",
    "df.to_csv(\"hr_analytics_edit.csv\")"
   ]
  },
  {
   "cell_type": "markdown",
   "id": "ac8345b3-3368-4cb7-b841-4f6643c19b07",
   "metadata": {},
   "source": [
    "### Attrition"
   ]
  },
  {
   "cell_type": "code",
   "execution_count": 147,
   "id": "09a987ea-e088-4ccb-8dd2-c36110c3550e",
   "metadata": {},
   "outputs": [
    {
     "data": {
      "text/html": [
       "<div>\n",
       "<style scoped>\n",
       "    .dataframe tbody tr th:only-of-type {\n",
       "        vertical-align: middle;\n",
       "    }\n",
       "\n",
       "    .dataframe tbody tr th {\n",
       "        vertical-align: top;\n",
       "    }\n",
       "\n",
       "    .dataframe thead th {\n",
       "        text-align: right;\n",
       "    }\n",
       "</style>\n",
       "<table border=\"1\" class=\"dataframe\">\n",
       "  <thead>\n",
       "    <tr style=\"text-align: right;\">\n",
       "      <th></th>\n",
       "      <th>Count</th>\n",
       "      <th>Percentage</th>\n",
       "    </tr>\n",
       "    <tr>\n",
       "      <th>Attrition</th>\n",
       "      <th></th>\n",
       "      <th></th>\n",
       "    </tr>\n",
       "  </thead>\n",
       "  <tbody>\n",
       "    <tr>\n",
       "      <th>No</th>\n",
       "      <td>1242</td>\n",
       "      <td>83.918919</td>\n",
       "    </tr>\n",
       "    <tr>\n",
       "      <th>Yes</th>\n",
       "      <td>238</td>\n",
       "      <td>16.081081</td>\n",
       "    </tr>\n",
       "  </tbody>\n",
       "</table>\n",
       "</div>"
      ],
      "text/plain": [
       "           Count  Percentage\n",
       "Attrition                   \n",
       "No          1242   83.918919\n",
       "Yes          238   16.081081"
      ]
     },
     "execution_count": 147,
     "metadata": {},
     "output_type": "execute_result"
    }
   ],
   "source": [
    "count_attrition = df.groupby('Attrition').size()\n",
    "\n",
    "total_rows = len(df)\n",
    "\n",
    "attrition_percentage = (count_attrition / total_rows) * 100\n",
    "\n",
    "pd.DataFrame({'Count': count_attrition, 'Percentage': attrition_percentage})"
   ]
  },
  {
   "cell_type": "markdown",
   "id": "52a3efa1-53fa-4663-bc68-6c12058cc352",
   "metadata": {},
   "source": [
    "### Gender"
   ]
  },
  {
   "cell_type": "code",
   "execution_count": 79,
   "id": "11a5840e-85df-47a1-bf4c-afd52906009d",
   "metadata": {},
   "outputs": [
    {
     "data": {
      "text/html": [
       "<div>\n",
       "<style scoped>\n",
       "    .dataframe tbody tr th:only-of-type {\n",
       "        vertical-align: middle;\n",
       "    }\n",
       "\n",
       "    .dataframe tbody tr th {\n",
       "        vertical-align: top;\n",
       "    }\n",
       "\n",
       "    .dataframe thead th {\n",
       "        text-align: right;\n",
       "    }\n",
       "</style>\n",
       "<table border=\"1\" class=\"dataframe\">\n",
       "  <thead>\n",
       "    <tr style=\"text-align: right;\">\n",
       "      <th></th>\n",
       "      <th>Count</th>\n",
       "      <th>Percentage</th>\n",
       "    </tr>\n",
       "    <tr>\n",
       "      <th>Gender</th>\n",
       "      <th></th>\n",
       "      <th></th>\n",
       "    </tr>\n",
       "  </thead>\n",
       "  <tbody>\n",
       "    <tr>\n",
       "      <th>Female</th>\n",
       "      <td>591</td>\n",
       "      <td>39.932432</td>\n",
       "    </tr>\n",
       "    <tr>\n",
       "      <th>Male</th>\n",
       "      <td>889</td>\n",
       "      <td>60.067568</td>\n",
       "    </tr>\n",
       "  </tbody>\n",
       "</table>\n",
       "</div>"
      ],
      "text/plain": [
       "        Count  Percentage\n",
       "Gender                   \n",
       "Female    591   39.932432\n",
       "Male      889   60.067568"
      ]
     },
     "execution_count": 79,
     "metadata": {},
     "output_type": "execute_result"
    }
   ],
   "source": [
    "count_gender = df.groupby('Gender').size()\n",
    "\n",
    "total_rows = len(df)\n",
    "\n",
    "gender_percentage = (count_gender / total_rows) * 100\n",
    "\n",
    "pd.DataFrame({'Count': count_gender, 'Percentage': gender_percentage})"
   ]
  },
  {
   "cell_type": "markdown",
   "id": "30c8f2f0-183a-42da-b6ac-914525b93ebd",
   "metadata": {},
   "source": [
    "### Age"
   ]
  },
  {
   "cell_type": "code",
   "execution_count": 14,
   "id": "6c9a2ff5-b147-4942-abbf-0699065a5ae4",
   "metadata": {},
   "outputs": [
    {
     "data": {
      "text/plain": [
       "count    1480.000000\n",
       "mean       36.917568\n",
       "std         9.128559\n",
       "min        18.000000\n",
       "25%        30.000000\n",
       "50%        36.000000\n",
       "75%        43.000000\n",
       "max        60.000000\n",
       "Name: Age, dtype: float64"
      ]
     },
     "execution_count": 14,
     "metadata": {},
     "output_type": "execute_result"
    }
   ],
   "source": [
    "df['Age'].describe()"
   ]
  },
  {
   "cell_type": "markdown",
   "id": "53a1ea73-a01d-4f6d-8ce9-9a35b12d16a4",
   "metadata": {},
   "source": [
    "### Age Group"
   ]
  },
  {
   "cell_type": "code",
   "execution_count": 15,
   "id": "5e7b2c4b-e579-4536-bf37-80d6b6594823",
   "metadata": {},
   "outputs": [
    {
     "data": {
      "text/html": [
       "<div>\n",
       "<style scoped>\n",
       "    .dataframe tbody tr th:only-of-type {\n",
       "        vertical-align: middle;\n",
       "    }\n",
       "\n",
       "    .dataframe tbody tr th {\n",
       "        vertical-align: top;\n",
       "    }\n",
       "\n",
       "    .dataframe thead th {\n",
       "        text-align: right;\n",
       "    }\n",
       "</style>\n",
       "<table border=\"1\" class=\"dataframe\">\n",
       "  <thead>\n",
       "    <tr style=\"text-align: right;\">\n",
       "      <th></th>\n",
       "      <th>Count</th>\n",
       "      <th>Percentage</th>\n",
       "    </tr>\n",
       "    <tr>\n",
       "      <th>AgeGroup</th>\n",
       "      <th></th>\n",
       "      <th></th>\n",
       "    </tr>\n",
       "  </thead>\n",
       "  <tbody>\n",
       "    <tr>\n",
       "      <th>18-25</th>\n",
       "      <td>123</td>\n",
       "      <td>8.310811</td>\n",
       "    </tr>\n",
       "    <tr>\n",
       "      <th>26-35</th>\n",
       "      <td>611</td>\n",
       "      <td>41.283784</td>\n",
       "    </tr>\n",
       "    <tr>\n",
       "      <th>36-45</th>\n",
       "      <td>471</td>\n",
       "      <td>31.824324</td>\n",
       "    </tr>\n",
       "    <tr>\n",
       "      <th>46-55</th>\n",
       "      <td>228</td>\n",
       "      <td>15.405405</td>\n",
       "    </tr>\n",
       "    <tr>\n",
       "      <th>56+</th>\n",
       "      <td>47</td>\n",
       "      <td>3.175676</td>\n",
       "    </tr>\n",
       "  </tbody>\n",
       "</table>\n",
       "</div>"
      ],
      "text/plain": [
       "          Count  Percentage\n",
       "AgeGroup                   \n",
       "18-25       123    8.310811\n",
       "26-35       611   41.283784\n",
       "36-45       471   31.824324\n",
       "46-55       228   15.405405\n",
       "56+          47    3.175676"
      ]
     },
     "execution_count": 15,
     "metadata": {},
     "output_type": "execute_result"
    }
   ],
   "source": [
    "count_age_group = df.groupby('AgeGroup').size()\n",
    "\n",
    "# Total number of records in the DataFrame\n",
    "total_rows = len(df)\n",
    "\n",
    "age_group_percentage = (count_age_group / total_rows) * 100\n",
    "\n",
    "pd.DataFrame({'Count': count_age_group, 'Percentage': age_group_percentage})"
   ]
  },
  {
   "cell_type": "markdown",
   "id": "6a9f6d15-0dbd-4e79-bbd3-52446670764e",
   "metadata": {},
   "source": [
    "### Marital Status"
   ]
  },
  {
   "cell_type": "code",
   "execution_count": 80,
   "id": "7aec304d-8b77-4da0-9659-8568fb4d5b2b",
   "metadata": {},
   "outputs": [
    {
     "data": {
      "text/html": [
       "<div>\n",
       "<style scoped>\n",
       "    .dataframe tbody tr th:only-of-type {\n",
       "        vertical-align: middle;\n",
       "    }\n",
       "\n",
       "    .dataframe tbody tr th {\n",
       "        vertical-align: top;\n",
       "    }\n",
       "\n",
       "    .dataframe thead th {\n",
       "        text-align: right;\n",
       "    }\n",
       "</style>\n",
       "<table border=\"1\" class=\"dataframe\">\n",
       "  <thead>\n",
       "    <tr style=\"text-align: right;\">\n",
       "      <th></th>\n",
       "      <th>Count</th>\n",
       "      <th>Percentage</th>\n",
       "    </tr>\n",
       "    <tr>\n",
       "      <th>MaritalStatus</th>\n",
       "      <th></th>\n",
       "      <th></th>\n",
       "    </tr>\n",
       "  </thead>\n",
       "  <tbody>\n",
       "    <tr>\n",
       "      <th>Divorced</th>\n",
       "      <td>328</td>\n",
       "      <td>22.162162</td>\n",
       "    </tr>\n",
       "    <tr>\n",
       "      <th>Married</th>\n",
       "      <td>679</td>\n",
       "      <td>45.878378</td>\n",
       "    </tr>\n",
       "    <tr>\n",
       "      <th>Single</th>\n",
       "      <td>473</td>\n",
       "      <td>31.959459</td>\n",
       "    </tr>\n",
       "  </tbody>\n",
       "</table>\n",
       "</div>"
      ],
      "text/plain": [
       "               Count  Percentage\n",
       "MaritalStatus                   \n",
       "Divorced         328   22.162162\n",
       "Married          679   45.878378\n",
       "Single           473   31.959459"
      ]
     },
     "execution_count": 80,
     "metadata": {},
     "output_type": "execute_result"
    }
   ],
   "source": [
    "count_maritalstatus = df.groupby('MaritalStatus').size()\n",
    "\n",
    "total_rows = len(df)\n",
    "\n",
    "maritalstatus_percentage = (count_maritalstatus / total_rows) * 100\n",
    "\n",
    "pd.DataFrame({'Count': count_maritalstatus, 'Percentage': maritalstatus_percentage})"
   ]
  },
  {
   "cell_type": "markdown",
   "id": "3073f93e-8694-4be2-af96-69998969f3e2",
   "metadata": {},
   "source": [
    "### Business Travel"
   ]
  },
  {
   "cell_type": "code",
   "execution_count": 148,
   "id": "39e582ae-f01d-4c24-a265-1116289f7f54",
   "metadata": {},
   "outputs": [
    {
     "data": {
      "text/html": [
       "<div>\n",
       "<style scoped>\n",
       "    .dataframe tbody tr th:only-of-type {\n",
       "        vertical-align: middle;\n",
       "    }\n",
       "\n",
       "    .dataframe tbody tr th {\n",
       "        vertical-align: top;\n",
       "    }\n",
       "\n",
       "    .dataframe thead th {\n",
       "        text-align: right;\n",
       "    }\n",
       "</style>\n",
       "<table border=\"1\" class=\"dataframe\">\n",
       "  <thead>\n",
       "    <tr style=\"text-align: right;\">\n",
       "      <th></th>\n",
       "      <th>Count</th>\n",
       "      <th>Percentage</th>\n",
       "    </tr>\n",
       "    <tr>\n",
       "      <th>BusinessTravel</th>\n",
       "      <th></th>\n",
       "      <th></th>\n",
       "    </tr>\n",
       "  </thead>\n",
       "  <tbody>\n",
       "    <tr>\n",
       "      <th>Non-Travel</th>\n",
       "      <td>151</td>\n",
       "      <td>10.202703</td>\n",
       "    </tr>\n",
       "    <tr>\n",
       "      <th>Travel_Frequently</th>\n",
       "      <td>279</td>\n",
       "      <td>18.851351</td>\n",
       "    </tr>\n",
       "    <tr>\n",
       "      <th>Travel_Rarely</th>\n",
       "      <td>1050</td>\n",
       "      <td>70.945946</td>\n",
       "    </tr>\n",
       "  </tbody>\n",
       "</table>\n",
       "</div>"
      ],
      "text/plain": [
       "                   Count  Percentage\n",
       "BusinessTravel                      \n",
       "Non-Travel           151   10.202703\n",
       "Travel_Frequently    279   18.851351\n",
       "Travel_Rarely       1050   70.945946"
      ]
     },
     "execution_count": 148,
     "metadata": {},
     "output_type": "execute_result"
    }
   ],
   "source": [
    "count_businesstravel = df.groupby('BusinessTravel').size()\n",
    "\n",
    "total_rows = len(df)\n",
    "\n",
    "businesstravel_percentage = (count_businesstravel / total_rows) * 100\n",
    "\n",
    "pd.DataFrame({'Count': count_businesstravel, 'Percentage': businesstravel_percentage})"
   ]
  },
  {
   "cell_type": "markdown",
   "id": "abf44776-3161-443a-9d7c-f46828820c26",
   "metadata": {},
   "source": [
    "### OverTime"
   ]
  },
  {
   "cell_type": "code",
   "execution_count": 210,
   "id": "87bc8445-1850-49ba-87e2-aa7db2c5dc76",
   "metadata": {},
   "outputs": [
    {
     "data": {
      "text/html": [
       "<div>\n",
       "<style scoped>\n",
       "    .dataframe tbody tr th:only-of-type {\n",
       "        vertical-align: middle;\n",
       "    }\n",
       "\n",
       "    .dataframe tbody tr th {\n",
       "        vertical-align: top;\n",
       "    }\n",
       "\n",
       "    .dataframe thead th {\n",
       "        text-align: right;\n",
       "    }\n",
       "</style>\n",
       "<table border=\"1\" class=\"dataframe\">\n",
       "  <thead>\n",
       "    <tr style=\"text-align: right;\">\n",
       "      <th></th>\n",
       "      <th>Count</th>\n",
       "      <th>Percentage</th>\n",
       "    </tr>\n",
       "    <tr>\n",
       "      <th>OverTime</th>\n",
       "      <th></th>\n",
       "      <th></th>\n",
       "    </tr>\n",
       "  </thead>\n",
       "  <tbody>\n",
       "    <tr>\n",
       "      <th>No</th>\n",
       "      <td>1062</td>\n",
       "      <td>71.756757</td>\n",
       "    </tr>\n",
       "    <tr>\n",
       "      <th>Yes</th>\n",
       "      <td>418</td>\n",
       "      <td>28.243243</td>\n",
       "    </tr>\n",
       "  </tbody>\n",
       "</table>\n",
       "</div>"
      ],
      "text/plain": [
       "          Count  Percentage\n",
       "OverTime                   \n",
       "No         1062   71.756757\n",
       "Yes         418   28.243243"
      ]
     },
     "execution_count": 210,
     "metadata": {},
     "output_type": "execute_result"
    }
   ],
   "source": [
    "count_overtime = df.groupby('OverTime').size()\n",
    "\n",
    "total_rows = len(df)\n",
    "\n",
    "overtime_percentage = (count_overtime / total_rows) * 100\n",
    "\n",
    "pd.DataFrame({'Count': count_overtime, 'Percentage': overtime_percentage})"
   ]
  },
  {
   "cell_type": "markdown",
   "id": "29a5841e-50ff-4dee-a178-6a7f1d3d9dd8",
   "metadata": {},
   "source": [
    "### Distance From Home"
   ]
  },
  {
   "cell_type": "code",
   "execution_count": 212,
   "id": "69923495-de61-4e65-ba95-e396bef1bb35",
   "metadata": {},
   "outputs": [
    {
     "data": {
      "text/plain": [
       "count    1480.000000\n",
       "mean        9.220270\n",
       "std         8.131201\n",
       "min         1.000000\n",
       "25%         2.000000\n",
       "50%         7.000000\n",
       "75%        14.000000\n",
       "max        29.000000\n",
       "Name: DistanceFromHome, dtype: float64"
      ]
     },
     "execution_count": 212,
     "metadata": {},
     "output_type": "execute_result"
    }
   ],
   "source": [
    "df['DistanceFromHome'].describe()"
   ]
  },
  {
   "cell_type": "markdown",
   "id": "0af86c0a-246e-4b6c-a955-e208558f3f41",
   "metadata": {},
   "source": [
    "### Education Field"
   ]
  },
  {
   "cell_type": "code",
   "execution_count": 76,
   "id": "00a51701-0ba0-4d9d-a1d4-736de4745989",
   "metadata": {},
   "outputs": [
    {
     "data": {
      "text/html": [
       "<div>\n",
       "<style scoped>\n",
       "    .dataframe tbody tr th:only-of-type {\n",
       "        vertical-align: middle;\n",
       "    }\n",
       "\n",
       "    .dataframe tbody tr th {\n",
       "        vertical-align: top;\n",
       "    }\n",
       "\n",
       "    .dataframe thead th {\n",
       "        text-align: right;\n",
       "    }\n",
       "</style>\n",
       "<table border=\"1\" class=\"dataframe\">\n",
       "  <thead>\n",
       "    <tr style=\"text-align: right;\">\n",
       "      <th></th>\n",
       "      <th>Count</th>\n",
       "      <th>Percentage</th>\n",
       "    </tr>\n",
       "    <tr>\n",
       "      <th>EducationField</th>\n",
       "      <th></th>\n",
       "      <th></th>\n",
       "    </tr>\n",
       "  </thead>\n",
       "  <tbody>\n",
       "    <tr>\n",
       "      <th>Human Resources</th>\n",
       "      <td>27</td>\n",
       "      <td>1.824324</td>\n",
       "    </tr>\n",
       "    <tr>\n",
       "      <th>Life Sciences</th>\n",
       "      <td>607</td>\n",
       "      <td>41.013514</td>\n",
       "    </tr>\n",
       "    <tr>\n",
       "      <th>Marketing</th>\n",
       "      <td>161</td>\n",
       "      <td>10.878378</td>\n",
       "    </tr>\n",
       "    <tr>\n",
       "      <th>Medical</th>\n",
       "      <td>470</td>\n",
       "      <td>31.756757</td>\n",
       "    </tr>\n",
       "    <tr>\n",
       "      <th>Other</th>\n",
       "      <td>83</td>\n",
       "      <td>5.608108</td>\n",
       "    </tr>\n",
       "    <tr>\n",
       "      <th>Technical Degree</th>\n",
       "      <td>132</td>\n",
       "      <td>8.918919</td>\n",
       "    </tr>\n",
       "  </tbody>\n",
       "</table>\n",
       "</div>"
      ],
      "text/plain": [
       "                  Count  Percentage\n",
       "EducationField                     \n",
       "Human Resources      27    1.824324\n",
       "Life Sciences       607   41.013514\n",
       "Marketing           161   10.878378\n",
       "Medical             470   31.756757\n",
       "Other                83    5.608108\n",
       "Technical Degree    132    8.918919"
      ]
     },
     "execution_count": 76,
     "metadata": {},
     "output_type": "execute_result"
    }
   ],
   "source": [
    "count_educationfield = df.groupby('EducationField').size()\n",
    "\n",
    "total_rows = len(df)\n",
    "\n",
    "educationfield_percentage = (count_educationfield / total_rows) * 100\n",
    "\n",
    "pd.DataFrame({'Count': count_educationfield, 'Percentage': educationfield_percentage})"
   ]
  },
  {
   "cell_type": "markdown",
   "id": "5d4e9a9b-8617-4b04-ae5d-5a35e0702618",
   "metadata": {},
   "source": [
    "### Education"
   ]
  },
  {
   "cell_type": "code",
   "execution_count": 75,
   "id": "5da028e1-8b63-482e-8b1d-86911ba06769",
   "metadata": {},
   "outputs": [
    {
     "data": {
      "text/html": [
       "<div>\n",
       "<style scoped>\n",
       "    .dataframe tbody tr th:only-of-type {\n",
       "        vertical-align: middle;\n",
       "    }\n",
       "\n",
       "    .dataframe tbody tr th {\n",
       "        vertical-align: top;\n",
       "    }\n",
       "\n",
       "    .dataframe thead th {\n",
       "        text-align: right;\n",
       "    }\n",
       "</style>\n",
       "<table border=\"1\" class=\"dataframe\">\n",
       "  <thead>\n",
       "    <tr style=\"text-align: right;\">\n",
       "      <th></th>\n",
       "      <th>Count</th>\n",
       "      <th>Percentage</th>\n",
       "    </tr>\n",
       "    <tr>\n",
       "      <th>Education</th>\n",
       "      <th></th>\n",
       "      <th></th>\n",
       "    </tr>\n",
       "  </thead>\n",
       "  <tbody>\n",
       "    <tr>\n",
       "      <th>1</th>\n",
       "      <td>172</td>\n",
       "      <td>11.621622</td>\n",
       "    </tr>\n",
       "    <tr>\n",
       "      <th>2</th>\n",
       "      <td>283</td>\n",
       "      <td>19.121622</td>\n",
       "    </tr>\n",
       "    <tr>\n",
       "      <th>3</th>\n",
       "      <td>578</td>\n",
       "      <td>39.054054</td>\n",
       "    </tr>\n",
       "    <tr>\n",
       "      <th>4</th>\n",
       "      <td>399</td>\n",
       "      <td>26.959459</td>\n",
       "    </tr>\n",
       "    <tr>\n",
       "      <th>5</th>\n",
       "      <td>48</td>\n",
       "      <td>3.243243</td>\n",
       "    </tr>\n",
       "  </tbody>\n",
       "</table>\n",
       "</div>"
      ],
      "text/plain": [
       "           Count  Percentage\n",
       "Education                   \n",
       "1            172   11.621622\n",
       "2            283   19.121622\n",
       "3            578   39.054054\n",
       "4            399   26.959459\n",
       "5             48    3.243243"
      ]
     },
     "execution_count": 75,
     "metadata": {},
     "output_type": "execute_result"
    }
   ],
   "source": [
    "count_education = df.groupby('Education').size()\n",
    "\n",
    "total_rows = len(df)\n",
    "\n",
    "education_percentage = (count_education / total_rows) * 100\n",
    "\n",
    "pd.DataFrame({'Count': count_education, 'Percentage': education_percentage})\n",
    "\n",
    "#Education: 1 - High School\n",
    "#Education: 2 - College\n",
    "#Education: 3 - Bachelor\n",
    "#Education: 4 - Master\n",
    "#Education: 5 - Doctorate"
   ]
  },
  {
   "cell_type": "markdown",
   "id": "b5a2091e-fd4a-485f-97db-ac7bfc10c349",
   "metadata": {},
   "source": [
    "### Department"
   ]
  },
  {
   "cell_type": "code",
   "execution_count": 149,
   "id": "00b77d83-b518-4bec-bba6-f3cedb592cd8",
   "metadata": {},
   "outputs": [
    {
     "data": {
      "text/html": [
       "<div>\n",
       "<style scoped>\n",
       "    .dataframe tbody tr th:only-of-type {\n",
       "        vertical-align: middle;\n",
       "    }\n",
       "\n",
       "    .dataframe tbody tr th {\n",
       "        vertical-align: top;\n",
       "    }\n",
       "\n",
       "    .dataframe thead th {\n",
       "        text-align: right;\n",
       "    }\n",
       "</style>\n",
       "<table border=\"1\" class=\"dataframe\">\n",
       "  <thead>\n",
       "    <tr style=\"text-align: right;\">\n",
       "      <th></th>\n",
       "      <th>Count</th>\n",
       "      <th>Percentage</th>\n",
       "    </tr>\n",
       "    <tr>\n",
       "      <th>Department</th>\n",
       "      <th></th>\n",
       "      <th></th>\n",
       "    </tr>\n",
       "  </thead>\n",
       "  <tbody>\n",
       "    <tr>\n",
       "      <th>Human Resources</th>\n",
       "      <td>63</td>\n",
       "      <td>4.256757</td>\n",
       "    </tr>\n",
       "    <tr>\n",
       "      <th>Research &amp; Development</th>\n",
       "      <td>967</td>\n",
       "      <td>65.337838</td>\n",
       "    </tr>\n",
       "    <tr>\n",
       "      <th>Sales</th>\n",
       "      <td>450</td>\n",
       "      <td>30.405405</td>\n",
       "    </tr>\n",
       "  </tbody>\n",
       "</table>\n",
       "</div>"
      ],
      "text/plain": [
       "                        Count  Percentage\n",
       "Department                               \n",
       "Human Resources            63    4.256757\n",
       "Research & Development    967   65.337838\n",
       "Sales                     450   30.405405"
      ]
     },
     "execution_count": 149,
     "metadata": {},
     "output_type": "execute_result"
    }
   ],
   "source": [
    "count_department = df.groupby('Department').size()\n",
    "\n",
    "total_rows = len(df)\n",
    "\n",
    "department_percentage = (count_department / total_rows) * 100\n",
    "\n",
    "pd.DataFrame({'Count': count_department, 'Percentage': department_percentage})"
   ]
  },
  {
   "cell_type": "markdown",
   "id": "2a63823d-74eb-4657-a188-01ecf96bccbd",
   "metadata": {},
   "source": [
    "### Job Roles"
   ]
  },
  {
   "cell_type": "code",
   "execution_count": 78,
   "id": "e51aa611-1242-46fa-8221-e20442442cdf",
   "metadata": {},
   "outputs": [
    {
     "data": {
      "text/html": [
       "<div>\n",
       "<style scoped>\n",
       "    .dataframe tbody tr th:only-of-type {\n",
       "        vertical-align: middle;\n",
       "    }\n",
       "\n",
       "    .dataframe tbody tr th {\n",
       "        vertical-align: top;\n",
       "    }\n",
       "\n",
       "    .dataframe thead th {\n",
       "        text-align: right;\n",
       "    }\n",
       "</style>\n",
       "<table border=\"1\" class=\"dataframe\">\n",
       "  <thead>\n",
       "    <tr style=\"text-align: right;\">\n",
       "      <th></th>\n",
       "      <th>Count</th>\n",
       "      <th>Percentage</th>\n",
       "    </tr>\n",
       "    <tr>\n",
       "      <th>JobRole</th>\n",
       "      <th></th>\n",
       "      <th></th>\n",
       "    </tr>\n",
       "  </thead>\n",
       "  <tbody>\n",
       "    <tr>\n",
       "      <th>Healthcare Representative</th>\n",
       "      <td>132</td>\n",
       "      <td>8.918919</td>\n",
       "    </tr>\n",
       "    <tr>\n",
       "      <th>Human Resources</th>\n",
       "      <td>52</td>\n",
       "      <td>3.513514</td>\n",
       "    </tr>\n",
       "    <tr>\n",
       "      <th>Laboratory Technician</th>\n",
       "      <td>261</td>\n",
       "      <td>17.635135</td>\n",
       "    </tr>\n",
       "    <tr>\n",
       "      <th>Manager</th>\n",
       "      <td>102</td>\n",
       "      <td>6.891892</td>\n",
       "    </tr>\n",
       "    <tr>\n",
       "      <th>Manufacturing Director</th>\n",
       "      <td>147</td>\n",
       "      <td>9.932432</td>\n",
       "    </tr>\n",
       "    <tr>\n",
       "      <th>Research Director</th>\n",
       "      <td>80</td>\n",
       "      <td>5.405405</td>\n",
       "    </tr>\n",
       "    <tr>\n",
       "      <th>Research Scientist</th>\n",
       "      <td>293</td>\n",
       "      <td>19.797297</td>\n",
       "    </tr>\n",
       "    <tr>\n",
       "      <th>Sales Executive</th>\n",
       "      <td>329</td>\n",
       "      <td>22.229730</td>\n",
       "    </tr>\n",
       "    <tr>\n",
       "      <th>Sales Representative</th>\n",
       "      <td>84</td>\n",
       "      <td>5.675676</td>\n",
       "    </tr>\n",
       "  </tbody>\n",
       "</table>\n",
       "</div>"
      ],
      "text/plain": [
       "                           Count  Percentage\n",
       "JobRole                                     \n",
       "Healthcare Representative    132    8.918919\n",
       "Human Resources               52    3.513514\n",
       "Laboratory Technician        261   17.635135\n",
       "Manager                      102    6.891892\n",
       "Manufacturing Director       147    9.932432\n",
       "Research Director             80    5.405405\n",
       "Research Scientist           293   19.797297\n",
       "Sales Executive              329   22.229730\n",
       "Sales Representative          84    5.675676"
      ]
     },
     "execution_count": 78,
     "metadata": {},
     "output_type": "execute_result"
    }
   ],
   "source": [
    "count_jobrole = df.groupby('JobRole').size()\n",
    "\n",
    "total_rows = len(df)\n",
    "\n",
    "jobfield_percentage = (count_jobrole / total_rows) * 100\n",
    "\n",
    "pd.DataFrame({'Count': count_jobrole, 'Percentage': jobfield_percentage})"
   ]
  },
  {
   "cell_type": "markdown",
   "id": "2f77bb3b-eb41-4e60-9632-181c6c13ef36",
   "metadata": {},
   "source": [
    "### Job Level"
   ]
  },
  {
   "cell_type": "code",
   "execution_count": 218,
   "id": "5cb2fff6-733e-4fde-affe-a8feb6c26036",
   "metadata": {},
   "outputs": [
    {
     "data": {
      "text/html": [
       "<div>\n",
       "<style scoped>\n",
       "    .dataframe tbody tr th:only-of-type {\n",
       "        vertical-align: middle;\n",
       "    }\n",
       "\n",
       "    .dataframe tbody tr th {\n",
       "        vertical-align: top;\n",
       "    }\n",
       "\n",
       "    .dataframe thead th {\n",
       "        text-align: right;\n",
       "    }\n",
       "</style>\n",
       "<table border=\"1\" class=\"dataframe\">\n",
       "  <thead>\n",
       "    <tr style=\"text-align: right;\">\n",
       "      <th></th>\n",
       "      <th>Count</th>\n",
       "      <th>Percentage</th>\n",
       "    </tr>\n",
       "    <tr>\n",
       "      <th>JobLevel</th>\n",
       "      <th></th>\n",
       "      <th></th>\n",
       "    </tr>\n",
       "  </thead>\n",
       "  <tbody>\n",
       "    <tr>\n",
       "      <th>1</th>\n",
       "      <td>545</td>\n",
       "      <td>36.824324</td>\n",
       "    </tr>\n",
       "    <tr>\n",
       "      <th>2</th>\n",
       "      <td>539</td>\n",
       "      <td>36.418919</td>\n",
       "    </tr>\n",
       "    <tr>\n",
       "      <th>3</th>\n",
       "      <td>220</td>\n",
       "      <td>14.864865</td>\n",
       "    </tr>\n",
       "    <tr>\n",
       "      <th>4</th>\n",
       "      <td>107</td>\n",
       "      <td>7.229730</td>\n",
       "    </tr>\n",
       "    <tr>\n",
       "      <th>5</th>\n",
       "      <td>69</td>\n",
       "      <td>4.662162</td>\n",
       "    </tr>\n",
       "  </tbody>\n",
       "</table>\n",
       "</div>"
      ],
      "text/plain": [
       "          Count  Percentage\n",
       "JobLevel                   \n",
       "1           545   36.824324\n",
       "2           539   36.418919\n",
       "3           220   14.864865\n",
       "4           107    7.229730\n",
       "5            69    4.662162"
      ]
     },
     "execution_count": 218,
     "metadata": {},
     "output_type": "execute_result"
    }
   ],
   "source": [
    "count_joblevel = df.groupby('JobLevel').size()\n",
    "\n",
    "total_rows = len(df)\n",
    "\n",
    "joblevel_percentage = (count_joblevel / total_rows) * 100\n",
    "\n",
    "pd.DataFrame({'Count': count_joblevel, 'Percentage': joblevel_percentage})\n",
    "\n",
    "#Job Level 1: Entry Level\n",
    "#Job Level 2: Associate\n",
    "#Job Level 3: Mid-Level\n",
    "#Job Level 4: Senior\n",
    "#Job Level 5: Executive"
   ]
  },
  {
   "cell_type": "markdown",
   "id": "3a0a22d4-06a9-4228-b52d-9496a488d2f7",
   "metadata": {},
   "source": [
    "### Job Role with Job Levels"
   ]
  },
  {
   "cell_type": "code",
   "execution_count": 215,
   "id": "6f085947-4ac7-4018-bfdb-00e6d05852c7",
   "metadata": {},
   "outputs": [
    {
     "data": {
      "text/plain": [
       "JobRole                    JobLevel\n",
       "Healthcare Representative  2            78\n",
       "                           3            45\n",
       "                           4             9\n",
       "Human Resources            1            33\n",
       "                           2            13\n",
       "                           3             6\n",
       "Laboratory Technician      1           200\n",
       "                           2            58\n",
       "                           3             3\n",
       "Manager                    3            12\n",
       "                           4            47\n",
       "                           5            43\n",
       "Manufacturing Director     2            92\n",
       "                           3            45\n",
       "                           4            10\n",
       "Research Director          3            28\n",
       "                           4            26\n",
       "                           5            26\n",
       "Research Scientist         1           235\n",
       "                           2            57\n",
       "                           3             1\n",
       "Sales Executive            2           234\n",
       "                           3            80\n",
       "                           4            15\n",
       "Sales Representative       1            77\n",
       "                           2             7\n",
       "dtype: int64"
      ]
     },
     "execution_count": 215,
     "metadata": {},
     "output_type": "execute_result"
    }
   ],
   "source": [
    "df.groupby(['JobRole', 'JobLevel']).size()"
   ]
  },
  {
   "cell_type": "markdown",
   "id": "00ddb279-8c1f-41cb-8ae0-36b5db483e0c",
   "metadata": {},
   "source": [
    "### Job Involvement"
   ]
  },
  {
   "cell_type": "code",
   "execution_count": 217,
   "id": "efe03b35-c663-42f1-9c9c-1c04e5b8d33a",
   "metadata": {},
   "outputs": [
    {
     "data": {
      "text/html": [
       "<div>\n",
       "<style scoped>\n",
       "    .dataframe tbody tr th:only-of-type {\n",
       "        vertical-align: middle;\n",
       "    }\n",
       "\n",
       "    .dataframe tbody tr th {\n",
       "        vertical-align: top;\n",
       "    }\n",
       "\n",
       "    .dataframe thead th {\n",
       "        text-align: right;\n",
       "    }\n",
       "</style>\n",
       "<table border=\"1\" class=\"dataframe\">\n",
       "  <thead>\n",
       "    <tr style=\"text-align: right;\">\n",
       "      <th></th>\n",
       "      <th>Count</th>\n",
       "      <th>Percentage</th>\n",
       "    </tr>\n",
       "    <tr>\n",
       "      <th>JobInvolvement</th>\n",
       "      <th></th>\n",
       "      <th></th>\n",
       "    </tr>\n",
       "  </thead>\n",
       "  <tbody>\n",
       "    <tr>\n",
       "      <th>1</th>\n",
       "      <td>83</td>\n",
       "      <td>5.608108</td>\n",
       "    </tr>\n",
       "    <tr>\n",
       "      <th>2</th>\n",
       "      <td>381</td>\n",
       "      <td>25.743243</td>\n",
       "    </tr>\n",
       "    <tr>\n",
       "      <th>3</th>\n",
       "      <td>869</td>\n",
       "      <td>58.716216</td>\n",
       "    </tr>\n",
       "    <tr>\n",
       "      <th>4</th>\n",
       "      <td>147</td>\n",
       "      <td>9.932432</td>\n",
       "    </tr>\n",
       "  </tbody>\n",
       "</table>\n",
       "</div>"
      ],
      "text/plain": [
       "                Count  Percentage\n",
       "JobInvolvement                   \n",
       "1                  83    5.608108\n",
       "2                 381   25.743243\n",
       "3                 869   58.716216\n",
       "4                 147    9.932432"
      ]
     },
     "execution_count": 217,
     "metadata": {},
     "output_type": "execute_result"
    }
   ],
   "source": [
    "count_jobinvolvement = df.groupby('JobInvolvement').size()\n",
    "\n",
    "total_rows = len(df)\n",
    "\n",
    "jobinvolvement_percentage = (count_jobinvolvement / total_rows) * 100\n",
    "\n",
    "pd.DataFrame({'Count': count_jobinvolvement, 'Percentage': jobinvolvement_percentage})\n",
    "\n",
    "#Job Involvement: 1 - Low\n",
    "#Job Involvement: 2 - Medium\n",
    "#Job Involvement: 3 - High\n",
    "#Job Involvement: 4 - Very High"
   ]
  },
  {
   "cell_type": "markdown",
   "id": "25b8578f-f96d-4539-8887-a73390d172b5",
   "metadata": {},
   "source": [
    "### Number of Companies Worked"
   ]
  },
  {
   "cell_type": "code",
   "execution_count": 258,
   "id": "012ffa35-26ff-473d-bf22-bc3e96aa668a",
   "metadata": {},
   "outputs": [
    {
     "data": {
      "text/plain": [
       "count    1480.000000\n",
       "mean        2.687162\n",
       "std         2.494098\n",
       "min         0.000000\n",
       "25%         1.000000\n",
       "50%         2.000000\n",
       "75%         4.000000\n",
       "max         9.000000\n",
       "Name: NumCompaniesWorked, dtype: float64"
      ]
     },
     "execution_count": 258,
     "metadata": {},
     "output_type": "execute_result"
    }
   ],
   "source": [
    "df['NumCompaniesWorked'].describe()"
   ]
  },
  {
   "cell_type": "markdown",
   "id": "5a2e6963-e352-4df2-9671-0f2428d8bb38",
   "metadata": {},
   "source": [
    "### Compensation"
   ]
  },
  {
   "cell_type": "code",
   "execution_count": 17,
   "id": "543a1d9a-cc5e-42fc-9fee-6d2988e5235d",
   "metadata": {},
   "outputs": [
    {
     "data": {
      "text/html": [
       "<div>\n",
       "<style scoped>\n",
       "    .dataframe tbody tr th:only-of-type {\n",
       "        vertical-align: middle;\n",
       "    }\n",
       "\n",
       "    .dataframe tbody tr th {\n",
       "        vertical-align: top;\n",
       "    }\n",
       "\n",
       "    .dataframe thead th {\n",
       "        text-align: right;\n",
       "    }\n",
       "</style>\n",
       "<table border=\"1\" class=\"dataframe\">\n",
       "  <thead>\n",
       "    <tr style=\"text-align: right;\">\n",
       "      <th></th>\n",
       "      <th>HourlyRate</th>\n",
       "      <th>DailyRate</th>\n",
       "      <th>MonthlyRate</th>\n",
       "      <th>MonthlyIncome</th>\n",
       "      <th>HoursWorked</th>\n",
       "    </tr>\n",
       "  </thead>\n",
       "  <tbody>\n",
       "    <tr>\n",
       "      <th>1361</th>\n",
       "      <td>30</td>\n",
       "      <td>1490</td>\n",
       "      <td>10310</td>\n",
       "      <td>16555</td>\n",
       "      <td>49.666667</td>\n",
       "    </tr>\n",
       "    <tr>\n",
       "      <th>744</th>\n",
       "      <td>30</td>\n",
       "      <td>1480</td>\n",
       "      <td>15062</td>\n",
       "      <td>2088</td>\n",
       "      <td>49.333333</td>\n",
       "    </tr>\n",
       "    <tr>\n",
       "      <th>1339</th>\n",
       "      <td>30</td>\n",
       "      <td>1456</td>\n",
       "      <td>25796</td>\n",
       "      <td>7484</td>\n",
       "      <td>48.533333</td>\n",
       "    </tr>\n",
       "    <tr>\n",
       "      <th>1328</th>\n",
       "      <td>30</td>\n",
       "      <td>1421</td>\n",
       "      <td>9490</td>\n",
       "      <td>17856</td>\n",
       "      <td>47.366667</td>\n",
       "    </tr>\n",
       "    <tr>\n",
       "      <th>1468</th>\n",
       "      <td>32</td>\n",
       "      <td>1420</td>\n",
       "      <td>21922</td>\n",
       "      <td>18844</td>\n",
       "      <td>44.375000</td>\n",
       "    </tr>\n",
       "    <tr>\n",
       "      <th>...</th>\n",
       "      <td>...</td>\n",
       "      <td>...</td>\n",
       "      <td>...</td>\n",
       "      <td>...</td>\n",
       "      <td>...</td>\n",
       "    </tr>\n",
       "    <tr>\n",
       "      <th>998</th>\n",
       "      <td>84</td>\n",
       "      <td>118</td>\n",
       "      <td>11262</td>\n",
       "      <td>4639</td>\n",
       "      <td>1.404762</td>\n",
       "    </tr>\n",
       "    <tr>\n",
       "      <th>687</th>\n",
       "      <td>96</td>\n",
       "      <td>130</td>\n",
       "      <td>16612</td>\n",
       "      <td>2022</td>\n",
       "      <td>1.354167</td>\n",
       "    </tr>\n",
       "    <tr>\n",
       "      <th>985</th>\n",
       "      <td>84</td>\n",
       "      <td>107</td>\n",
       "      <td>11591</td>\n",
       "      <td>6852</td>\n",
       "      <td>1.273810</td>\n",
       "    </tr>\n",
       "    <tr>\n",
       "      <th>951</th>\n",
       "      <td>87</td>\n",
       "      <td>105</td>\n",
       "      <td>15302</td>\n",
       "      <td>19431</td>\n",
       "      <td>1.206897</td>\n",
       "    </tr>\n",
       "    <tr>\n",
       "      <th>917</th>\n",
       "      <td>99</td>\n",
       "      <td>117</td>\n",
       "      <td>5355</td>\n",
       "      <td>17068</td>\n",
       "      <td>1.181818</td>\n",
       "    </tr>\n",
       "  </tbody>\n",
       "</table>\n",
       "<p>1480 rows × 5 columns</p>\n",
       "</div>"
      ],
      "text/plain": [
       "      HourlyRate  DailyRate  MonthlyRate  MonthlyIncome  HoursWorked\n",
       "1361          30       1490        10310          16555    49.666667\n",
       "744           30       1480        15062           2088    49.333333\n",
       "1339          30       1456        25796           7484    48.533333\n",
       "1328          30       1421         9490          17856    47.366667\n",
       "1468          32       1420        21922          18844    44.375000\n",
       "...          ...        ...          ...            ...          ...\n",
       "998           84        118        11262           4639     1.404762\n",
       "687           96        130        16612           2022     1.354167\n",
       "985           84        107        11591           6852     1.273810\n",
       "951           87        105        15302          19431     1.206897\n",
       "917           99        117         5355          17068     1.181818\n",
       "\n",
       "[1480 rows x 5 columns]"
      ]
     },
     "execution_count": 17,
     "metadata": {},
     "output_type": "execute_result"
    }
   ],
   "source": [
    "df['HoursWorked'] = df['DailyRate'] / df['HourlyRate']\n",
    "df[['HourlyRate', 'DailyRate', 'MonthlyRate', 'MonthlyIncome', 'HoursWorked']].sort_values(by='HoursWorked', ascending=False)\n",
    "\n",
    "#Ignore variables as salary rates between hours, daily, and monthly do not converted propertly\n",
    "#Impossible that an employee can work up to 50 hours a day..."
   ]
  },
  {
   "cell_type": "markdown",
   "id": "731d6bfd-f213-4405-bec1-50e249efe73f",
   "metadata": {},
   "source": [
    "### Salary Slab"
   ]
  },
  {
   "cell_type": "code",
   "execution_count": 209,
   "id": "f7155bc1-2493-4cb2-9ff2-b3d7fbe59415",
   "metadata": {},
   "outputs": [
    {
     "data": {
      "text/html": [
       "<div>\n",
       "<style scoped>\n",
       "    .dataframe tbody tr th:only-of-type {\n",
       "        vertical-align: middle;\n",
       "    }\n",
       "\n",
       "    .dataframe tbody tr th {\n",
       "        vertical-align: top;\n",
       "    }\n",
       "\n",
       "    .dataframe thead th {\n",
       "        text-align: right;\n",
       "    }\n",
       "</style>\n",
       "<table border=\"1\" class=\"dataframe\">\n",
       "  <thead>\n",
       "    <tr style=\"text-align: right;\">\n",
       "      <th></th>\n",
       "      <th>Count</th>\n",
       "      <th>Percentage</th>\n",
       "    </tr>\n",
       "    <tr>\n",
       "      <th>SalarySlab</th>\n",
       "      <th></th>\n",
       "      <th></th>\n",
       "    </tr>\n",
       "  </thead>\n",
       "  <tbody>\n",
       "    <tr>\n",
       "      <th>10001_to_15000</th>\n",
       "      <td>150</td>\n",
       "      <td>10.135135</td>\n",
       "    </tr>\n",
       "    <tr>\n",
       "      <th>5001_to_10000</th>\n",
       "      <td>444</td>\n",
       "      <td>30.000000</td>\n",
       "    </tr>\n",
       "    <tr>\n",
       "      <th>Over_15000</th>\n",
       "      <td>133</td>\n",
       "      <td>8.986486</td>\n",
       "    </tr>\n",
       "    <tr>\n",
       "      <th>Up_to_5000</th>\n",
       "      <td>753</td>\n",
       "      <td>50.878378</td>\n",
       "    </tr>\n",
       "  </tbody>\n",
       "</table>\n",
       "</div>"
      ],
      "text/plain": [
       "                Count  Percentage\n",
       "SalarySlab                       \n",
       "10001_to_15000    150   10.135135\n",
       "5001_to_10000     444   30.000000\n",
       "Over_15000        133    8.986486\n",
       "Up_to_5000        753   50.878378"
      ]
     },
     "execution_count": 209,
     "metadata": {},
     "output_type": "execute_result"
    }
   ],
   "source": [
    "count_salaryslab = df.groupby('SalarySlab').size()\n",
    "\n",
    "total_rows = len(df)\n",
    "\n",
    "salaryslab_percentage = (count_salaryslab / total_rows) * 100\n",
    "\n",
    "pd.DataFrame({'Count': count_salaryslab, 'Percentage': salaryslab_percentage})"
   ]
  },
  {
   "cell_type": "markdown",
   "id": "3cf78f59-898f-410c-9b5b-c6792b218b9d",
   "metadata": {},
   "source": [
    "### Stock Level Option"
   ]
  },
  {
   "cell_type": "code",
   "execution_count": 81,
   "id": "9dccd890-1930-4d29-9b3f-7c6579c08ef8",
   "metadata": {},
   "outputs": [
    {
     "data": {
      "text/html": [
       "<div>\n",
       "<style scoped>\n",
       "    .dataframe tbody tr th:only-of-type {\n",
       "        vertical-align: middle;\n",
       "    }\n",
       "\n",
       "    .dataframe tbody tr th {\n",
       "        vertical-align: top;\n",
       "    }\n",
       "\n",
       "    .dataframe thead th {\n",
       "        text-align: right;\n",
       "    }\n",
       "</style>\n",
       "<table border=\"1\" class=\"dataframe\">\n",
       "  <thead>\n",
       "    <tr style=\"text-align: right;\">\n",
       "      <th></th>\n",
       "      <th>Count</th>\n",
       "      <th>Percentage</th>\n",
       "    </tr>\n",
       "    <tr>\n",
       "      <th>StockOptionLevel</th>\n",
       "      <th></th>\n",
       "      <th></th>\n",
       "    </tr>\n",
       "  </thead>\n",
       "  <tbody>\n",
       "    <tr>\n",
       "      <th>0</th>\n",
       "      <td>636</td>\n",
       "      <td>42.972973</td>\n",
       "    </tr>\n",
       "    <tr>\n",
       "      <th>1</th>\n",
       "      <td>601</td>\n",
       "      <td>40.608108</td>\n",
       "    </tr>\n",
       "    <tr>\n",
       "      <th>2</th>\n",
       "      <td>158</td>\n",
       "      <td>10.675676</td>\n",
       "    </tr>\n",
       "    <tr>\n",
       "      <th>3</th>\n",
       "      <td>85</td>\n",
       "      <td>5.743243</td>\n",
       "    </tr>\n",
       "  </tbody>\n",
       "</table>\n",
       "</div>"
      ],
      "text/plain": [
       "                  Count  Percentage\n",
       "StockOptionLevel                   \n",
       "0                   636   42.972973\n",
       "1                   601   40.608108\n",
       "2                   158   10.675676\n",
       "3                    85    5.743243"
      ]
     },
     "execution_count": 81,
     "metadata": {},
     "output_type": "execute_result"
    }
   ],
   "source": [
    "count_stockoptionlevel = df.groupby('StockOptionLevel').size()\n",
    "\n",
    "total_rows = len(df)\n",
    "\n",
    "stockoptionlevel_percentage = (count_stockoptionlevel / total_rows) * 100\n",
    "\n",
    "pd.DataFrame({'Count': count_stockoptionlevel, 'Percentage': stockoptionlevel_percentage})\n",
    "\n",
    "#Stock Option Level: 0 - None\n",
    "#Stock Option Level: 1 - Basic\n",
    "#Stock Option Level: 2 - Intermediate\n",
    "#Stock Option Level: 3 - Advanced"
   ]
  },
  {
   "cell_type": "markdown",
   "id": "ecf71688-db08-4442-a7ee-f95727a4d990",
   "metadata": {},
   "source": [
    "### Percent Salary Hike"
   ]
  },
  {
   "cell_type": "code",
   "execution_count": 83,
   "id": "0bc0a4e0-0b9b-4bdf-87bc-c6dea9bf4ae6",
   "metadata": {},
   "outputs": [
    {
     "data": {
      "text/plain": [
       "PercentSalaryHike\n",
       "11    211\n",
       "12    199\n",
       "13    210\n",
       "14    203\n",
       "15    102\n",
       "16     78\n",
       "17     83\n",
       "18     90\n",
       "19     77\n",
       "20     56\n",
       "21     48\n",
       "22     56\n",
       "23     28\n",
       "24     21\n",
       "25     18\n",
       "dtype: int64"
      ]
     },
     "execution_count": 83,
     "metadata": {},
     "output_type": "execute_result"
    }
   ],
   "source": [
    "df.groupby(['PercentSalaryHike']).size()"
   ]
  },
  {
   "cell_type": "code",
   "execution_count": 12,
   "id": "10cf83a4-6f32-47c8-86be-1c327a71c99a",
   "metadata": {},
   "outputs": [
    {
     "data": {
      "text/plain": [
       "count    1480.000000\n",
       "mean       15.210135\n",
       "std         3.655338\n",
       "min        11.000000\n",
       "25%        12.000000\n",
       "50%        14.000000\n",
       "75%        18.000000\n",
       "max        25.000000\n",
       "Name: PercentSalaryHike, dtype: float64"
      ]
     },
     "execution_count": 12,
     "metadata": {},
     "output_type": "execute_result"
    }
   ],
   "source": [
    "df['PercentSalaryHike'].describe()"
   ]
  },
  {
   "cell_type": "markdown",
   "id": "60a88f83-f034-48a6-b627-57178cbc3838",
   "metadata": {},
   "source": [
    "### Performance Rating"
   ]
  },
  {
   "cell_type": "code",
   "execution_count": 216,
   "id": "fda0ae27-a128-447d-939c-2c253b4bb913",
   "metadata": {},
   "outputs": [
    {
     "data": {
      "text/html": [
       "<div>\n",
       "<style scoped>\n",
       "    .dataframe tbody tr th:only-of-type {\n",
       "        vertical-align: middle;\n",
       "    }\n",
       "\n",
       "    .dataframe tbody tr th {\n",
       "        vertical-align: top;\n",
       "    }\n",
       "\n",
       "    .dataframe thead th {\n",
       "        text-align: right;\n",
       "    }\n",
       "</style>\n",
       "<table border=\"1\" class=\"dataframe\">\n",
       "  <thead>\n",
       "    <tr style=\"text-align: right;\">\n",
       "      <th></th>\n",
       "      <th>Count</th>\n",
       "      <th>Percentage</th>\n",
       "    </tr>\n",
       "    <tr>\n",
       "      <th>PerformanceRating</th>\n",
       "      <th></th>\n",
       "      <th></th>\n",
       "    </tr>\n",
       "  </thead>\n",
       "  <tbody>\n",
       "    <tr>\n",
       "      <th>3</th>\n",
       "      <td>1253</td>\n",
       "      <td>84.662162</td>\n",
       "    </tr>\n",
       "    <tr>\n",
       "      <th>4</th>\n",
       "      <td>227</td>\n",
       "      <td>15.337838</td>\n",
       "    </tr>\n",
       "  </tbody>\n",
       "</table>\n",
       "</div>"
      ],
      "text/plain": [
       "                   Count  Percentage\n",
       "PerformanceRating                   \n",
       "3                   1253   84.662162\n",
       "4                    227   15.337838"
      ]
     },
     "execution_count": 216,
     "metadata": {},
     "output_type": "execute_result"
    }
   ],
   "source": [
    "count_performancerating = df.groupby('PerformanceRating').size()\n",
    "\n",
    "total_rows = len(df)\n",
    "\n",
    "performancerating_percentage = (count_performancerating / total_rows) * 100\n",
    "\n",
    "pd.DataFrame({'Count': count_performancerating, 'Percentage': performancerating_percentage})\n",
    "\n",
    "#Performance Rating: 3 - Meets Expectations\n",
    "#Performance Rating: 4 - Exceeds Expectations"
   ]
  },
  {
   "cell_type": "markdown",
   "id": "246216fb-4e84-495d-8373-b7b99d40684e",
   "metadata": {},
   "source": [
    "### Satisfaction Scores"
   ]
  },
  {
   "cell_type": "code",
   "execution_count": 224,
   "id": "d45584c1-673e-494e-be10-bbaa74907645",
   "metadata": {},
   "outputs": [
    {
     "data": {
      "text/plain": [
       "EnvironmentSatisfaction\n",
       "1    284\n",
       "2    291\n",
       "3    454\n",
       "4    451\n",
       "dtype: int64"
      ]
     },
     "execution_count": 224,
     "metadata": {},
     "output_type": "execute_result"
    }
   ],
   "source": [
    "df.groupby('EnvironmentSatisfaction').size()"
   ]
  },
  {
   "cell_type": "code",
   "execution_count": 225,
   "id": "2aec42f5-8add-4711-b489-3394fae27cc8",
   "metadata": {},
   "outputs": [
    {
     "data": {
      "text/plain": [
       "JobSatisfaction\n",
       "1    293\n",
       "2    282\n",
       "3    444\n",
       "4    461\n",
       "dtype: int64"
      ]
     },
     "execution_count": 225,
     "metadata": {},
     "output_type": "execute_result"
    }
   ],
   "source": [
    "df.groupby('JobSatisfaction').size()"
   ]
  },
  {
   "cell_type": "code",
   "execution_count": 226,
   "id": "02844ff8-d9f6-4937-9899-e83f1893f8c3",
   "metadata": {},
   "outputs": [
    {
     "data": {
      "text/plain": [
       "RelationshipSatisfaction\n",
       "1    279\n",
       "2    307\n",
       "3    460\n",
       "4    434\n",
       "dtype: int64"
      ]
     },
     "execution_count": 226,
     "metadata": {},
     "output_type": "execute_result"
    }
   ],
   "source": [
    "df.groupby('RelationshipSatisfaction').size()"
   ]
  },
  {
   "cell_type": "code",
   "execution_count": 228,
   "id": "c1408347-7b13-497e-a669-b156084850ec",
   "metadata": {},
   "outputs": [],
   "source": [
    "#1 - Very Dissatisfied\n",
    "#2 - Dissatisfied\n",
    "#3 - Satisfied\n",
    "#4 - Very Satisfied"
   ]
  },
  {
   "cell_type": "markdown",
   "id": "20484aa9-1838-40e1-b949-75057d5dff65",
   "metadata": {},
   "source": [
    "### Years"
   ]
  },
  {
   "cell_type": "code",
   "execution_count": 229,
   "id": "38226289-ad03-440e-a63b-d8c505fe3a9b",
   "metadata": {},
   "outputs": [
    {
     "data": {
      "text/plain": [
       "count    1480.000000\n",
       "mean       11.281757\n",
       "std         7.770870\n",
       "min         0.000000\n",
       "25%         6.000000\n",
       "50%        10.000000\n",
       "75%        15.000000\n",
       "max        40.000000\n",
       "Name: TotalWorkingYears, dtype: float64"
      ]
     },
     "execution_count": 229,
     "metadata": {},
     "output_type": "execute_result"
    }
   ],
   "source": [
    "df['TotalWorkingYears'].describe()"
   ]
  },
  {
   "cell_type": "code",
   "execution_count": 230,
   "id": "4b896b64-3b1e-4753-9427-d7dee4a02ddf",
   "metadata": {},
   "outputs": [
    {
     "data": {
      "text/plain": [
       "count    1480.000000\n",
       "mean        2.797973\n",
       "std         1.288791\n",
       "min         0.000000\n",
       "25%         2.000000\n",
       "50%         3.000000\n",
       "75%         3.000000\n",
       "max         6.000000\n",
       "Name: TrainingTimesLastYear, dtype: float64"
      ]
     },
     "execution_count": 230,
     "metadata": {},
     "output_type": "execute_result"
    }
   ],
   "source": [
    "df['TrainingTimesLastYear'].describe()"
   ]
  },
  {
   "cell_type": "code",
   "execution_count": 231,
   "id": "f07e6bb6-9e08-48b2-8ae1-2241ca811699",
   "metadata": {},
   "outputs": [
    {
     "data": {
      "text/plain": [
       "count    1480.000000\n",
       "mean        7.009459\n",
       "std         6.117945\n",
       "min         0.000000\n",
       "25%         3.000000\n",
       "50%         5.000000\n",
       "75%         9.000000\n",
       "max        40.000000\n",
       "Name: YearsAtCompany, dtype: float64"
      ]
     },
     "execution_count": 231,
     "metadata": {},
     "output_type": "execute_result"
    }
   ],
   "source": [
    "df['YearsAtCompany'].describe()"
   ]
  },
  {
   "cell_type": "code",
   "execution_count": 232,
   "id": "62063930-5460-49b7-a841-e5347199dc06",
   "metadata": {},
   "outputs": [
    {
     "data": {
      "text/plain": [
       "count    1480.000000\n",
       "mean        4.228378\n",
       "std         3.616020\n",
       "min         0.000000\n",
       "25%         2.000000\n",
       "50%         3.000000\n",
       "75%         7.000000\n",
       "max        18.000000\n",
       "Name: YearsInCurrentRole, dtype: float64"
      ]
     },
     "execution_count": 232,
     "metadata": {},
     "output_type": "execute_result"
    }
   ],
   "source": [
    "df['YearsInCurrentRole'].describe()"
   ]
  },
  {
   "cell_type": "code",
   "execution_count": 233,
   "id": "88ce4277-ed82-4362-929b-22598c2d1bfa",
   "metadata": {},
   "outputs": [
    {
     "data": {
      "text/plain": [
       "count    1480.000000\n",
       "mean        2.182432\n",
       "std         3.219357\n",
       "min         0.000000\n",
       "25%         0.000000\n",
       "50%         1.000000\n",
       "75%         3.000000\n",
       "max        15.000000\n",
       "Name: YearsSinceLastPromotion, dtype: float64"
      ]
     },
     "execution_count": 233,
     "metadata": {},
     "output_type": "execute_result"
    }
   ],
   "source": [
    "df['YearsSinceLastPromotion'].describe()"
   ]
  },
  {
   "cell_type": "code",
   "execution_count": 264,
   "id": "5a806396-2092-43d4-bcf2-756f55a5bd74",
   "metadata": {},
   "outputs": [
    {
     "data": {
      "text/plain": [
       "count    1423.000000\n",
       "mean        4.118060\n",
       "std         3.555484\n",
       "min         0.000000\n",
       "25%         2.000000\n",
       "50%         3.000000\n",
       "75%         7.000000\n",
       "max        17.000000\n",
       "Name: YearsWithCurrManager, dtype: float64"
      ]
     },
     "execution_count": 264,
     "metadata": {},
     "output_type": "execute_result"
    }
   ],
   "source": [
    "df['YearsWithCurrManager'].describe()"
   ]
  },
  {
   "cell_type": "code",
   "execution_count": null,
   "id": "9026fed2-611c-4dda-89fc-642e12982f3d",
   "metadata": {},
   "outputs": [],
   "source": []
  }
 ],
 "metadata": {
  "kernelspec": {
   "display_name": "test_env",
   "language": "python",
   "name": "test_env"
  },
  "language_info": {
   "codemirror_mode": {
    "name": "ipython",
    "version": 3
   },
   "file_extension": ".py",
   "mimetype": "text/x-python",
   "name": "python",
   "nbconvert_exporter": "python",
   "pygments_lexer": "ipython3",
   "version": "3.9.15"
  }
 },
 "nbformat": 4,
 "nbformat_minor": 5
}
